{
 "cells": [
  {
   "cell_type": "code",
   "execution_count": 17,
   "metadata": {},
   "outputs": [
    {
     "name": "stderr",
     "output_type": "stream",
     "text": [
      "-- Attaching packages --------------------------------------- tidyverse 1.2.1 --\n",
      "v ggplot2 2.2.1     v purrr   0.2.4\n",
      "v tibble  1.3.4     v dplyr   0.7.4\n",
      "v tidyr   0.8.0     v stringr 1.2.0\n",
      "v readr   1.1.1     v forcats 0.3.0\n",
      "-- Conflicts ------------------------------------------ tidyverse_conflicts() --\n",
      "x dplyr::filter() masks stats::filter()\n",
      "x dplyr::lag()    masks stats::lag()\n",
      "Loading required package: lattice\n",
      "\n",
      "Attaching package: 'caret'\n",
      "\n",
      "The following object is masked from 'package:purrr':\n",
      "\n",
      "    lift\n",
      "\n",
      "Warning message:\n",
      "\"package 'glmnet' was built under R version 3.4.4\"Loading required package: Matrix\n",
      "\n",
      "Attaching package: 'Matrix'\n",
      "\n",
      "The following object is masked from 'package:tidyr':\n",
      "\n",
      "    expand\n",
      "\n",
      "Loading required package: foreach\n",
      "\n",
      "Attaching package: 'foreach'\n",
      "\n",
      "The following objects are masked from 'package:purrr':\n",
      "\n",
      "    accumulate, when\n",
      "\n",
      "Loaded glmnet 2.0-16\n",
      "\n",
      "Warning message:\n",
      "\"package 'ranger' was built under R version 3.4.4\"Warning message:\n",
      "\"package 'e1071' was built under R version 3.4.4\""
     ]
    }
   ],
   "source": [
    "library(tidyverse)\n",
    "library(ggplot2)\n",
    "library(caret)\n",
    "library(glmnet)\n",
    "library(ranger)\n",
    "library(e1071)"
   ]
  },
  {
   "cell_type": "code",
   "execution_count": 18,
   "metadata": {},
   "outputs": [
    {
     "name": "stdout",
     "output_type": "stream",
     "text": [
      " int [1:891] 0 1 1 1 0 0 0 0 1 1 ...\n"
     ]
    }
   ],
   "source": [
    "setwd('C:/Users/Kevin/Desktop/Kaggle/Titanic')\n",
    "\n",
    "train <- read.csv('Train.csv')\n",
    "test <- read.csv('Test.csv')\n",
    "\n",
    "train$train <- 1\n",
    "test$train <- 0\n",
    "\n",
    "str(train$Survived)\n",
    "test$Survived <- 1\n",
    "\n",
    "titanic <- rbind(train,test)"
   ]
  },
  {
   "cell_type": "code",
   "execution_count": 19,
   "metadata": {},
   "outputs": [
    {
     "name": "stdout",
     "output_type": "stream",
     "text": [
      "'data.frame':\t1309 obs. of  13 variables:\n",
      " $ PassengerId: int  1 2 3 4 5 6 7 8 9 10 ...\n",
      " $ Survived   : num  0 1 1 1 0 0 0 0 1 1 ...\n",
      " $ Pclass     : int  3 1 3 1 3 3 1 3 3 2 ...\n",
      " $ Name       : Factor w/ 1307 levels \"Abbing, Mr. Anthony\",..: 109 191 358 277 16 559 520 629 417 581 ...\n",
      " $ Sex        : Factor w/ 2 levels \"female\",\"male\": 2 1 1 1 2 2 2 2 1 1 ...\n",
      " $ Age        : num  22 38 26 35 35 NA 54 2 27 14 ...\n",
      " $ SibSp      : int  1 1 0 1 0 0 0 3 0 1 ...\n",
      " $ Parch      : int  0 0 0 0 0 0 0 1 2 0 ...\n",
      " $ Ticket     : Factor w/ 929 levels \"110152\",\"110413\",..: 524 597 670 50 473 276 86 396 345 133 ...\n",
      " $ Fare       : num  7.25 71.28 7.92 53.1 8.05 ...\n",
      " $ Cabin      : Factor w/ 187 levels \"\",\"A10\",\"A14\",..: 1 83 1 57 1 1 131 1 1 1 ...\n",
      " $ Embarked   : Factor w/ 4 levels \"\",\"C\",\"Q\",\"S\": 4 2 4 4 4 3 4 4 4 2 ...\n",
      " $ train      : num  1 1 1 1 1 1 1 1 1 1 ...\n"
     ]
    }
   ],
   "source": [
    "#Looking at data types and changing to correct class\n",
    "str(titanic)\n",
    "\n",
    "titanic$Name <- as.character(titanic$Name)\n",
    "titanic$Survived <- as.factor(titanic$Survived)\n",
    "titanic$Pclass <- as.factor(titanic$Pclass)"
   ]
  },
  {
   "cell_type": "code",
   "execution_count": 20,
   "metadata": {},
   "outputs": [
    {
     "data": {
      "text/plain": [
       "\n",
       "  0   1 \n",
       "549 760 "
      ]
     },
     "metadata": {},
     "output_type": "display_data"
    }
   ],
   "source": [
    "#Now I will look at each feature to see if there are any data errors\n",
    "#Survived\n",
    "table(titanic$Survived)\n",
    "\n",
    "#looks fine"
   ]
  },
  {
   "cell_type": "code",
   "execution_count": 21,
   "metadata": {},
   "outputs": [
    {
     "data": {
      "text/plain": [
       "\n",
       "  1   2   3 \n",
       "323 277 709 "
      ]
     },
     "metadata": {},
     "output_type": "display_data"
    }
   ],
   "source": [
    "#Class\n",
    "table(titanic$Pclass)\n",
    "#Okay"
   ]
  },
  {
   "cell_type": "code",
   "execution_count": 22,
   "metadata": {},
   "outputs": [
    {
     "data": {
      "text/plain": [
       "\n",
       "female   male \n",
       "   466    843 "
      ]
     },
     "metadata": {},
     "output_type": "display_data"
    }
   ],
   "source": [
    "#Sex\n",
    "table(titanic[,5])\n",
    "#Okay"
   ]
  },
  {
   "cell_type": "code",
   "execution_count": 23,
   "metadata": {},
   "outputs": [
    {
     "name": "stderr",
     "output_type": "stream",
     "text": [
      "`stat_bin()` using `bins = 30`. Pick better value with `binwidth`.\n",
      "Warning message:\n",
      "\"Removed 263 rows containing non-finite values (stat_bin).\""
     ]
    },
    {
     "data": {},
     "metadata": {},
     "output_type": "display_data"
    },
    {
     "data": {
      "text/html": [
       "0.17"
      ],
      "text/latex": [
       "0.17"
      ],
      "text/markdown": [
       "0.17"
      ],
      "text/plain": [
       "[1] 0.17"
      ]
     },
     "metadata": {},
     "output_type": "display_data"
    },
    {
     "data": {
      "image/png": "[encoded data removed]",
      "text/plain": [
       "plot without title"
      ]
     },
     "metadata": {},
     "output_type": "display_data"
    }
   ],
   "source": [
    "#Age\n",
    "#263 NAs.\n",
    "ggplot(titanic,aes(Age)) + geom_histogram()\n",
    "#Min and max values are okay\n",
    "min(titanic$Age, na.rm = TRUE)"
   ]
  },
  {
   "cell_type": "code",
   "execution_count": 24,
   "metadata": {},
   "outputs": [
    {
     "data": {
      "text/plain": [
       "\n",
       "  0   1   2   3   4   5   8 \n",
       "891 319  42  20  22   6   9 "
      ]
     },
     "metadata": {},
     "output_type": "display_data"
    }
   ],
   "source": [
    "#Siblings/Spouses on Board - most are 0's does this make sense? \n",
    "#(cruises are a family thing but it could have been different back then)\n",
    "table(titanic$SibSp)"
   ]
  },
  {
   "cell_type": "code",
   "execution_count": 25,
   "metadata": {},
   "outputs": [
    {
     "data": {
      "text/plain": [
       "\n",
       "   0    1    2    3    4    5    6    9 \n",
       "1002  170  113    8    6    6    2    2 "
      ]
     },
     "metadata": {},
     "output_type": "display_data"
    }
   ],
   "source": [
    "#Number of children/parents on board - most are 0 again\n",
    "table(titanic$Parch)"
   ]
  },
  {
   "cell_type": "code",
   "execution_count": 26,
   "metadata": {},
   "outputs": [
    {
     "name": "stderr",
     "output_type": "stream",
     "text": [
      "`stat_bin()` using `bins = 30`. Pick better value with `binwidth`.\n",
      "Warning message:\n",
      "\"Removed 1 rows containing non-finite values (stat_bin).\""
     ]
    },
    {
     "data": {},
     "metadata": {},
     "output_type": "display_data"
    },
    {
     "data": {
      "image/png": "[encoded data removed]",
      "text/plain": [
       "plot without title"
      ]
     },
     "metadata": {},
     "output_type": "display_data"
    }
   ],
   "source": [
    "#17 0's and 1 NA - I'm going to assume the 0's are accurate\n",
    "#Also the max ticket price is fair, google says tickets went up\n",
    "#to $2500\n",
    "#I will impute the NA later on\n",
    "ggplot(titanic,aes(Fare)) + geom_histogram()"
   ]
  },
  {
   "cell_type": "code",
   "execution_count": 27,
   "metadata": {},
   "outputs": [
    {
     "data": {
      "text/plain": [
       "\n",
       "                            A10             A14             A16             A19 \n",
       "           1014               1               1               1               1 \n",
       "            A20             A23             A24             A26             A31 \n",
       "              1               1               1               1               1 \n",
       "            A32             A34             A36              A5              A6 \n",
       "              1               3               1               1               1 \n",
       "             A7            B101            B102             B18             B19 \n",
       "              1               1               1               2               1 \n",
       "            B20             B22             B28              B3             B30 \n",
       "              2               2               2               1               1 \n",
       "            B35             B37             B38             B39              B4 \n",
       "              2               1               1               1               1 \n",
       "            B41             B42             B49              B5             B50 \n",
       "              2               1               2               2               1 \n",
       "    B51 B53 B55 B57 B59 B63 B66         B58 B60             B69             B71 \n",
       "              3               5               3               2               2 \n",
       "            B73             B77             B78             B79             B80 \n",
       "              1               2               2               1               1 \n",
       "        B82 B84             B86             B94         B96 B98            C101 \n",
       "              1               1               1               4               3 \n",
       "           C103            C104            C106            C110            C111 \n",
       "              1               1               2               1               1 \n",
       "           C118            C123            C124            C125            C126 \n",
       "              1               2               2               2               2 \n",
       "           C128            C148              C2         C22 C26     C23 C25 C27 \n",
       "              1               1               2               4               6 \n",
       "            C30             C32             C45             C46             C47 \n",
       "              1               2               1               2               1 \n",
       "            C49             C50             C52             C54         C62 C64 \n",
       "              1               1               2               2               2 \n",
       "            C65             C68              C7             C70             C78 \n",
       "              2               2               2               1               4 \n",
       "            C82             C83             C85             C86             C87 \n",
       "              1               2               2               2               1 \n",
       "            C90             C91             C92             C93             C95 \n",
       "              1               1               2               2               1 \n",
       "            C99               D         D10 D12             D11             D15 \n",
       "              1               4               2               1               2 \n",
       "            D17             D19             D20             D21             D26 \n",
       "              2               2               2               2               2 \n",
       "            D28             D30             D33             D35             D36 \n",
       "              2               2               2               2               2 \n",
       "            D37             D45             D46             D47             D48 \n",
       "              2               1               1               1               1 \n",
       "            D49             D50             D56              D6              D7 \n",
       "              1               1               1               1               1 \n",
       "             D9             E10            E101             E12            E121 \n",
       "              1               1               3               1               2 \n",
       "            E17             E24             E25             E31             E33 \n",
       "              1               2               2               2               2 \n",
       "            E34             E36             E38             E40             E44 \n",
       "              3               1               1               1               2 \n",
       "            E46             E49             E50             E58             E63 \n",
       "              2               1               2               1               1 \n",
       "            E67             E68             E77              E8           F E69 \n",
       "              2               1               1               2               1 \n",
       "          F G63           F G73              F2             F33             F38 \n",
       "              2               2               4               4               1 \n",
       "             F4              G6               T             A11             A18 \n",
       "              4               5               1               1               1 \n",
       "            A21             A29              A9             B10             B11 \n",
       "              1               1               1               1               1 \n",
       "            B24             B26             B36             B45     B52 B54 B56 \n",
       "              1               1               1               2               1 \n",
       "            B61            C105            C116            C130            C132 \n",
       "              1               1               2               1               1 \n",
       "            C28             C31             C39             C51             C53 \n",
       "              1               2               1               1               1 \n",
       "        C55 C57              C6             C80             C89             C97 \n",
       "              2               2               2               2               1 \n",
       "            D22             D34             D38             D40             D43 \n",
       "              1               1               1               1               1 \n",
       "        E39 E41             E45             E52             E60               F \n",
       "              1               1               1               1               1 \n",
       "          F E46           F E57 \n",
       "              1               1 "
      ]
     },
     "metadata": {},
     "output_type": "display_data"
    }
   ],
   "source": [
    "#Cabin variable is extremely messy. \n",
    "#over 1000 are blank and there are many duplicate entries\n",
    "table(titanic$Cabin)"
   ]
  },
  {
   "cell_type": "code",
   "execution_count": 28,
   "metadata": {},
   "outputs": [],
   "source": [
    "#To Impute Age I will look at the title of the \n",
    "#person and use the median of each title as their age\n",
    "\n",
    "AgeNA <- titanic %>% filter(is.na(Age))\n",
    "\n",
    "AgeNA_MR <- grep(', Mr.', AgeNA$Name, value = TRUE, fixed = TRUE)\n",
    "AgeNA_MRS <- grep(', Mrs.', AgeNA$Name, value = TRUE, fixed = TRUE)\n",
    "AgeNA_Miss <- grep(', Miss.', AgeNA$Name, value = TRUE, fixed =TRUE)\n",
    "AgeNA_Master<-grep(', Master.', AgeNA$Name,value =TRUE,fixed = TRUE)\n",
    "\n",
    "#all but 2 of the Age NAs have these titles \n",
    "\n",
    "LastNA <- AgeNA[!(AgeNA$Name %in% AgeNA_MR) & \n",
    "                  !(AgeNA$Name %in% AgeNA_MRS) & \n",
    "                  !(AgeNA$Name %in% AgeNA_Miss) & \n",
    "                  !(AgeNA$Name %in% AgeNA_Master),]\n",
    "\n",
    "\n",
    "#Last two - one is a Dr. and one is a Ms.\n",
    "#I will make a seperate Dr. column and include Ms. in Miss.\n",
    "Ms <- LastNA %>% filter(!(Pclass == 1))\n",
    "LastNA <- LastNA %>% filter(Pclass == 1)"
   ]
  },
  {
   "cell_type": "code",
   "execution_count": 29,
   "metadata": {},
   "outputs": [
    {
     "data": {
      "text/html": [
       "<ol class=list-inline>\n",
       "\t<li>29</li>\n",
       "\t<li>22</li>\n",
       "\t<li>35.5</li>\n",
       "\t<li>4</li>\n",
       "\t<li>49</li>\n",
       "</ol>\n"
      ],
      "text/latex": [
       "\\begin{enumerate*}\n",
       "\\item 29\n",
       "\\item 22\n",
       "\\item 35.5\n",
       "\\item 4\n",
       "\\item 49\n",
       "\\end{enumerate*}\n"
      ],
      "text/markdown": [
       "1. 29\n",
       "2. 22\n",
       "3. 35.5\n",
       "4. 4\n",
       "5. 49\n",
       "\n",
       "\n"
      ],
      "text/plain": [
       "[1] 29.0 22.0 35.5  4.0 49.0"
      ]
     },
     "metadata": {},
     "output_type": "display_data"
    },
    {
     "data": {
      "text/html": [
       "1309"
      ],
      "text/latex": [
       "1309"
      ],
      "text/markdown": [
       "1309"
      ],
      "text/plain": [
       "[1] 1309"
      ]
     },
     "metadata": {},
     "output_type": "display_data"
    }
   ],
   "source": [
    "#Computing the median age of Mr, Miss, Master, and Dr titles.\n",
    "Age_MR <- titanic[grep(', Mr.', titanic$Name, fixed = TRUE),]\n",
    "median_Age_MR <- median(as.numeric(Age_MR$Age), na.rm = TRUE)\n",
    "\n",
    "Age_Miss <- titanic[grep(', Miss.', titanic$Name, fixed = TRUE),]\n",
    "median_Age_Miss <- median(as.numeric(Age_Miss$Age), na.rm = TRUE)\n",
    "\n",
    "Age_Mrs <- titanic[grep(', Mrs.', titanic$Name, fixed = TRUE),]\n",
    "median_Age_Mrs <- median(as.numeric(Age_Mrs$Age), na.rm = TRUE)\n",
    "\n",
    "Age_Master <-titanic[grep(', Master.', titanic$Name, fixed = TRUE),]\n",
    "median_Age_Master<- median(as.numeric(Age_Master$Age), na.rm = TRUE)\n",
    "\n",
    "Age_Dr <- titanic[grep(', Dr.', titanic$Name, fixed = TRUE),]\n",
    "median_Age_Dr <- median(as.numeric(Age_Dr$Age), na.rm = TRUE)\n",
    "\n",
    "#Results seem to make sense - Dr is oldest, Married women 2nd, \n",
    "#married or unmarried men 3rd, unmarried women/girls 4th, \n",
    "#and boys 5th.\n",
    "c(median_Age_MR , median_Age_Miss , median_Age_Mrs , \n",
    "  median_Age_Master ,median_Age_Dr)\n",
    "\n",
    "#Inputting new values for age\n",
    "titanic$Age <- ifelse(titanic$Name %in% AgeNA_MR,29, titanic$Age)\n",
    "titanic$Age <- ifelse(titanic$Name %in% AgeNA_Miss,22, titanic$Age)\n",
    "titanic$Age <- ifelse(titanic$Name %in% AgeNA_MRS,35.5, titanic$Age)\n",
    "titanic$Age <- ifelse(titanic$Name %in% AgeNA_Master,4, titanic$Age)\n",
    "titanic$Age <- ifelse(titanic$Name %in% LastNA$Name,49, titanic$Age)\n",
    "\n",
    "titanic$Age <- ifelse(titanic$Name %in% Ms, 22, titanic$Age)\n",
    "\n",
    "#no more na values for Age\n",
    "sum(!is.na(titanic$Age))"
   ]
  },
  {
   "cell_type": "code",
   "execution_count": 30,
   "metadata": {},
   "outputs": [
    {
     "data": {},
     "metadata": {},
     "output_type": "display_data"
    },
    {
     "data": {
      "image/png": "[encoded data removed]",
      "text/plain": [
       "plot without title"
      ]
     },
     "metadata": {},
     "output_type": "display_data"
    }
   ],
   "source": [
    "#Checking to see the count of titles\n",
    "\n",
    "Titles <- data.frame(Title = rep('Mr.', 757))\n",
    "Titles <- rbind(Titles, data.frame(Title = rep('Mrs.', 197)) )\n",
    "Titles <- rbind(Titles, data.frame(Title = rep('Miss.', 105)) )\n",
    "Titles <- rbind(Titles, data.frame(Title = rep('Master.', 61)) )\n",
    "Titles <- rbind(Titles, data.frame(Title = rep('Dr.', 8)) )\n",
    "\n",
    "ggplot(Titles) + geom_bar(aes(as.factor(Title))) + \n",
    "  xlab('Title') +\n",
    "  ggtitle('Count of Each Title')\n",
    "\n",
    "#The number of singles far outweighs the number of \n",
    "#couples/families so the SibSp and Parch being most 0's is fine\n",
    "#(These 5 titles contain 1128 out of the 1319 people)"
   ]
  },
  {
   "cell_type": "code",
   "execution_count": 31,
   "metadata": {},
   "outputs": [
    {
     "data": {
      "text/html": [
       "<table>\n",
       "<thead><tr><th scope=col>PassengerId</th><th scope=col>Survived</th><th scope=col>Pclass</th><th scope=col>Name</th><th scope=col>Sex</th><th scope=col>Age</th><th scope=col>SibSp</th><th scope=col>Parch</th><th scope=col>Ticket</th><th scope=col>Fare</th><th scope=col>Cabin</th><th scope=col>Embarked</th><th scope=col>train</th></tr></thead>\n",
       "<tbody>\n",
       "\t<tr><td>1044              </td><td>1                 </td><td>3                 </td><td>Storey, Mr. Thomas</td><td>male              </td><td>60.5              </td><td>0                 </td><td>0                 </td><td>3701              </td><td>NA                </td><td>                  </td><td>S                 </td><td>0                 </td></tr>\n",
       "</tbody>\n",
       "</table>\n"
      ],
      "text/latex": [
       "\\begin{tabular}{r|lllllllllllll}\n",
       " PassengerId & Survived & Pclass & Name & Sex & Age & SibSp & Parch & Ticket & Fare & Cabin & Embarked & train\\\\\n",
       "\\hline\n",
       "\t 1044               & 1                  & 3                  & Storey, Mr. Thomas & male               & 60.5               & 0                  & 0                  & 3701               & NA                 &                    & S                  & 0                 \\\\\n",
       "\\end{tabular}\n"
      ],
      "text/markdown": [
       "\n",
       "PassengerId | Survived | Pclass | Name | Sex | Age | SibSp | Parch | Ticket | Fare | Cabin | Embarked | train | \n",
       "|---|\n",
       "| 1044               | 1                  | 3                  | Storey, Mr. Thomas | male               | 60.5               | 0                  | 0                  | 3701               | NA                 |                    | S                  | 0                  | \n",
       "\n",
       "\n"
      ],
      "text/plain": [
       "  PassengerId Survived Pclass Name               Sex  Age  SibSp Parch Ticket\n",
       "1 1044        1        3      Storey, Mr. Thomas male 60.5 0     0     3701  \n",
       "  Fare Cabin Embarked train\n",
       "1 NA         S        0    "
      ]
     },
     "metadata": {},
     "output_type": "display_data"
    }
   ],
   "source": [
    "#NA Fare is a third class male from the test set. \n",
    "#I will impute his fare from 3rd class men.\n",
    "NAfare <- titanic %>% filter(is.na(Fare))\n",
    "NAfare\n",
    "\n"
   ]
  },
  {
   "cell_type": "code",
   "execution_count": 32,
   "metadata": {},
   "outputs": [
    {
     "data": {
      "text/html": [
       "1309"
      ],
      "text/latex": [
       "1309"
      ],
      "text/markdown": [
       "1309"
      ],
      "text/plain": [
       "[1] 1309"
      ]
     },
     "metadata": {},
     "output_type": "display_data"
    }
   ],
   "source": [
    "MrThirdClass<-titanic[grep(', Mr.',titanic$Name, fixed = TRUE),]%>% \n",
    "                filter(Pclass == 3)\n",
    "\n",
    "MrThirdClass_Median_Fare <- median(MrThirdClass$Fare, na.rm = TRUE)\n",
    "\n",
    "\n",
    "titanic$Fare <- ifelse(titanic$Name %in% NAfare, 7.8958, \n",
    "                       titanic$Fare)\n",
    "\n",
    "#No more Fare NA's\n",
    "sum(!is.na(titanic$Fare))\n"
   ]
  },
  {
   "cell_type": "code",
   "execution_count": 33,
   "metadata": {},
   "outputs": [
    {
     "name": "stdout",
     "output_type": "stream",
     "text": [
      "+ Fold1: mtry=2 \n",
      "- Fold1: mtry=2 \n",
      "+ Fold1: mtry=2 \n",
      "- Fold1: mtry=2 \n",
      "+ Fold1: mtry=3 \n",
      "- Fold1: mtry=3 \n",
      "+ Fold1: mtry=3 \n",
      "- Fold1: mtry=3 \n",
      "+ Fold1: mtry=4 \n",
      "- Fold1: mtry=4 \n",
      "+ Fold1: mtry=4 \n",
      "- Fold1: mtry=4 \n",
      "+ Fold1: mtry=5 \n",
      "- Fold1: mtry=5 \n",
      "+ Fold1: mtry=5 \n",
      "- Fold1: mtry=5 \n",
      "+ Fold1: mtry=6 \n",
      "- Fold1: mtry=6 \n",
      "+ Fold1: mtry=6 \n",
      "- Fold1: mtry=6 \n",
      "+ Fold1: mtry=7 \n",
      "- Fold1: mtry=7 \n",
      "+ Fold1: mtry=7 \n",
      "- Fold1: mtry=7 \n",
      "+ Fold1: mtry=8 \n",
      "- Fold1: mtry=8 \n",
      "+ Fold1: mtry=8 \n",
      "- Fold1: mtry=8 \n",
      "+ Fold1: mtry=9 \n",
      "- Fold1: mtry=9 \n",
      "+ Fold1: mtry=9 \n",
      "- Fold1: mtry=9 \n",
      "+ Fold2: mtry=2 \n",
      "- Fold2: mtry=2 \n",
      "+ Fold2: mtry=2 \n",
      "- Fold2: mtry=2 \n",
      "+ Fold2: mtry=3 \n",
      "- Fold2: mtry=3 \n",
      "+ Fold2: mtry=3 \n",
      "- Fold2: mtry=3 \n",
      "+ Fold2: mtry=4 \n",
      "- Fold2: mtry=4 \n",
      "+ Fold2: mtry=4 \n",
      "- Fold2: mtry=4 \n",
      "+ Fold2: mtry=5 \n",
      "- Fold2: mtry=5 \n",
      "+ Fold2: mtry=5 \n",
      "- Fold2: mtry=5 \n",
      "+ Fold2: mtry=6 \n",
      "- Fold2: mtry=6 \n",
      "+ Fold2: mtry=6 \n",
      "- Fold2: mtry=6 \n",
      "+ Fold2: mtry=7 \n",
      "- Fold2: mtry=7 \n",
      "+ Fold2: mtry=7 \n",
      "- Fold2: mtry=7 \n",
      "+ Fold2: mtry=8 \n",
      "- Fold2: mtry=8 \n",
      "+ Fold2: mtry=8 \n",
      "- Fold2: mtry=8 \n",
      "+ Fold2: mtry=9 \n",
      "- Fold2: mtry=9 \n",
      "+ Fold2: mtry=9 \n",
      "- Fold2: mtry=9 \n",
      "+ Fold3: mtry=2 \n",
      "- Fold3: mtry=2 \n",
      "+ Fold3: mtry=2 \n",
      "- Fold3: mtry=2 \n",
      "+ Fold3: mtry=3 \n",
      "- Fold3: mtry=3 \n",
      "+ Fold3: mtry=3 \n",
      "- Fold3: mtry=3 \n",
      "+ Fold3: mtry=4 \n",
      "- Fold3: mtry=4 \n",
      "+ Fold3: mtry=4 \n",
      "- Fold3: mtry=4 \n",
      "+ Fold3: mtry=5 \n",
      "- Fold3: mtry=5 \n",
      "+ Fold3: mtry=5 \n",
      "- Fold3: mtry=5 \n",
      "+ Fold3: mtry=6 \n",
      "- Fold3: mtry=6 \n",
      "+ Fold3: mtry=6 \n",
      "- Fold3: mtry=6 \n",
      "+ Fold3: mtry=7 \n",
      "- Fold3: mtry=7 \n",
      "+ Fold3: mtry=7 \n",
      "- Fold3: mtry=7 \n",
      "+ Fold3: mtry=8 \n",
      "- Fold3: mtry=8 \n",
      "+ Fold3: mtry=8 \n",
      "- Fold3: mtry=8 \n",
      "+ Fold3: mtry=9 \n",
      "- Fold3: mtry=9 \n",
      "+ Fold3: mtry=9 \n",
      "- Fold3: mtry=9 \n",
      "+ Fold4: mtry=2 \n",
      "- Fold4: mtry=2 \n",
      "+ Fold4: mtry=2 \n",
      "- Fold4: mtry=2 \n",
      "+ Fold4: mtry=3 \n",
      "- Fold4: mtry=3 \n",
      "+ Fold4: mtry=3 \n",
      "- Fold4: mtry=3 \n",
      "+ Fold4: mtry=4 \n",
      "- Fold4: mtry=4 \n",
      "+ Fold4: mtry=4 \n",
      "- Fold4: mtry=4 \n",
      "+ Fold4: mtry=5 \n",
      "- Fold4: mtry=5 \n",
      "+ Fold4: mtry=5 \n",
      "- Fold4: mtry=5 \n",
      "+ Fold4: mtry=6 \n",
      "- Fold4: mtry=6 \n",
      "+ Fold4: mtry=6 \n",
      "- Fold4: mtry=6 \n",
      "+ Fold4: mtry=7 \n",
      "- Fold4: mtry=7 \n",
      "+ Fold4: mtry=7 \n",
      "- Fold4: mtry=7 \n",
      "+ Fold4: mtry=8 \n",
      "- Fold4: mtry=8 \n",
      "+ Fold4: mtry=8 \n",
      "- Fold4: mtry=8 \n",
      "+ Fold4: mtry=9 \n",
      "- Fold4: mtry=9 \n",
      "+ Fold4: mtry=9 \n",
      "- Fold4: mtry=9 \n",
      "+ Fold5: mtry=2 \n",
      "- Fold5: mtry=2 \n",
      "+ Fold5: mtry=2 \n",
      "- Fold5: mtry=2 \n",
      "+ Fold5: mtry=3 \n",
      "- Fold5: mtry=3 \n",
      "+ Fold5: mtry=3 \n",
      "- Fold5: mtry=3 \n",
      "+ Fold5: mtry=4 \n",
      "- Fold5: mtry=4 \n",
      "+ Fold5: mtry=4 \n",
      "- Fold5: mtry=4 \n",
      "+ Fold5: mtry=5 \n",
      "- Fold5: mtry=5 \n",
      "+ Fold5: mtry=5 \n",
      "- Fold5: mtry=5 \n",
      "+ Fold5: mtry=6 \n",
      "- Fold5: mtry=6 \n",
      "+ Fold5: mtry=6 \n",
      "- Fold5: mtry=6 \n",
      "+ Fold5: mtry=7 \n",
      "- Fold5: mtry=7 \n",
      "+ Fold5: mtry=7 \n",
      "- Fold5: mtry=7 \n",
      "+ Fold5: mtry=8 \n",
      "- Fold5: mtry=8 \n",
      "+ Fold5: mtry=8 \n",
      "- Fold5: mtry=8 \n",
      "+ Fold5: mtry=9 \n",
      "- Fold5: mtry=9 \n",
      "+ Fold5: mtry=9 \n",
      "- Fold5: mtry=9 \n",
      "Aggregating results\n",
      "Selecting tuning parameters\n",
      "Fitting mtry = 4 on full training set\n"
     ]
    }
   ],
   "source": [
    "set.seed(1234)\n",
    "\n",
    "#Splitting dataset back into train and test\n",
    "train_final <- titanic %>% filter(train == 1)\n",
    "test_final <- titanic %>% filter(train == 0)\n",
    "\n",
    "#Using 5 fold cross validation\n",
    "control_parm <- trainControl(method = 'cv',\n",
    "                            number = 5,\n",
    "                            verboseIter = TRUE,\n",
    "                            savePredictions = TRUE)\n",
    "\n",
    "#Using random Forest because of lax assumptions\n",
    "RFmodel <- train(Survived ~ Pclass + Sex + Age + SibSp + \n",
    "                     Fare + Parch + Embarked ,\n",
    "                     data=train_final,\n",
    "                     method='rf',\n",
    "                     preProcess = c(\"center\",\"scale\"),\n",
    "                     trControl = control_parm,\n",
    "                     tuneGrid = data.frame(mtry = \n",
    "                        c(2,2, 3,3,4,4,5,5,6, 6,7, 7,8,8,9,9)),\n",
    "                     importance = TRUE\n",
    ")\n",
    "\n",
    "\n"
   ]
  },
  {
   "cell_type": "code",
   "execution_count": 35,
   "metadata": {},
   "outputs": [
    {
     "data": {
      "text/plain": [
       "Random Forest \n",
       "\n",
       "891 samples\n",
       "  7 predictor\n",
       "  2 classes: '0', '1' \n",
       "\n",
       "Pre-processing: centered (10), scaled (10) \n",
       "Resampling: Cross-Validated (5 fold) \n",
       "Summary of sample sizes: 714, 713, 713, 712, 712 \n",
       "Resampling results across tuning parameters:\n",
       "\n",
       "  mtry  Accuracy   Kappa    \n",
       "  2     0.8193219  0.6002822\n",
       "  3     0.8294061  0.6273833\n",
       "  4     0.8321867  0.6361270\n",
       "  5     0.8305233  0.6336908\n",
       "  6     0.8249115  0.6223268\n",
       "  7     0.8204359  0.6147759\n",
       "  8     0.8164907  0.6066433\n",
       "  9     0.8147863  0.6033825\n",
       "\n",
       "Accuracy was used to select the optimal model using the largest value.\n",
       "The final value used for the model was mtry = 4."
      ]
     },
     "metadata": {},
     "output_type": "display_data"
    },
    {
     "data": {},
     "metadata": {},
     "output_type": "display_data"
    },
    {
     "data": {
      "text/plain": [
       "\n",
       "Call:\n",
       " randomForest(x = x, y = y, mtry = param$mtry, importance = TRUE) \n",
       "               Type of random forest: classification\n",
       "                     Number of trees: 500\n",
       "No. of variables tried at each split: 4\n",
       "\n",
       "        OOB estimate of  error rate: 16.61%\n",
       "Confusion matrix:\n",
       "    0   1 class.error\n",
       "0 498  51  0.09289617\n",
       "1  97 245  0.28362573"
      ]
     },
     "metadata": {},
     "output_type": "display_data"
    },
    {
     "data": {
      "text/plain": [
       "rf variable importance\n",
       "\n",
       "          Importance\n",
       "Sexmale     100.0000\n",
       "Age          32.1587\n",
       "Pclass3      28.5092\n",
       "Fare         27.1347\n",
       "SibSp        10.1277\n",
       "Parch         5.4450\n",
       "Pclass2       4.8902\n",
       "EmbarkedS     4.0873\n",
       "EmbarkedQ     0.7913\n",
       "EmbarkedC     0.0000"
      ]
     },
     "metadata": {},
     "output_type": "display_data"
    },
    {
     "data": {
      "image/png": "[encoded data removed]",
      "text/plain": [
       "plot without title"
      ]
     },
     "metadata": {},
     "output_type": "display_data"
    }
   ],
   "source": [
    "\n",
    "RFmodel\n",
    "plot(RFmodel)\n",
    "RFmodel$finalModel\n",
    "\n",
    "\n",
    "#Variable importance\n",
    "varImp(RFmodel)"
   ]
  },
  {
   "cell_type": "code",
   "execution_count": 36,
   "metadata": {},
   "outputs": [
    {
     "data": {
      "text/plain": [
       "RFprediction\n",
       "  0   1 \n",
       "273 145 "
      ]
     },
     "metadata": {},
     "output_type": "display_data"
    }
   ],
   "source": [
    "#Prediction and writing the final csv\n",
    "RFprediction <- predict(RFmodel, newdata=test_final )\n",
    "table(RFprediction)\n",
    "\n",
    "final_prediction <- data.frame(PassengerId = c(892:1309) , \n",
    "                               Survived = RFprediction)\n",
    "\n",
    "\n",
    "write.csv(final_prediction, \n",
    "    'C:/Users/Kevin/Desktop/Kaggle/Titanic/Final_Submission.csv', \n",
    "    row.names = TRUE)"
   ]
  },
  {
   "cell_type": "code",
   "execution_count": null,
   "metadata": {
    "collapsed": true
   },
   "outputs": [],
   "source": []
  }
 ],
 "metadata": {
  "kernelspec": {
   "display_name": "R",
   "language": "R",
   "name": "ir"
  },
  "language_info": {
   "codemirror_mode": "r",
   "file_extension": ".r",
   "mimetype": "text/x-r-source",
   "name": "R",
   "pygments_lexer": "r",
   "version": "3.4.3"
  }
 },
 "nbformat": 4,
 "nbformat_minor": 2
}
